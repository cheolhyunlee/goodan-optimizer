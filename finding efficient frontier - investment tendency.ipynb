{
 "cells": [
  {
   "cell_type": "code",
   "execution_count": 1,
   "metadata": {},
   "outputs": [],
   "source": [
    "import numpy as np\n",
    "import pandas as pd\n",
    "import FinanceDataReader as fdr\n",
    "import warnings\n",
    "warnings.filterwarnings('ignore')\n",
    "import matplotlib as mpl\n",
    "import matplotlib.pyplot as plt\n",
    "from matplotlib import font_manager, rc\n",
    "font_name = font_manager.FontProperties(fname = \"C:\\Windows\\Fonts\\malgun.ttf\").get_name()\n",
    "rc('font', family=font_name)\n",
    "import seaborn as sns\n",
    "from scipy.optimize import minimize\n",
    "mpl.rcParams['axes.unicode_minus'] = False\n",
    "%matplotlib inline"
   ]
  },
  {
   "cell_type": "code",
   "execution_count": 2,
   "metadata": {},
   "outputs": [],
   "source": [
    "asset_code = ['005930', '035720', '005490', '068270', '018260', '051900', '096770', '036570', '010130', '021240', '035250']\n",
    "asset_number = len(asset_code)"
   ]
  },
  {
   "cell_type": "code",
   "execution_count": 3,
   "metadata": {},
   "outputs": [],
   "source": [
    "stock_listing = fdr.StockListing('KOSPI')\n",
    "asset_list = []\n",
    "\n",
    "for code in asset_code :\n",
    "    asset_list.append(stock_listing[stock_listing['Symbol'] == code])\n",
    "\n",
    "asset_info = pd.concat(asset_list)"
   ]
  },
  {
   "cell_type": "code",
   "execution_count": 4,
   "metadata": {},
   "outputs": [],
   "source": [
    "asset_data = []\n",
    "\n",
    "for code in asset_code :\n",
    "    asset_close = fdr.DataReader(code,'2017')[['Close']]\n",
    "    asset_data.append(asset_close)\n",
    "\n",
    "asset_price = pd.concat(asset_data, axis = 1)\n",
    "asset_price.columns = asset_info['Name'].values"
   ]
  },
  {
   "cell_type": "code",
   "execution_count": 5,
   "metadata": {},
   "outputs": [],
   "source": [
    "data = asset_price.pct_change()"
   ]
  },
  {
   "cell_type": "code",
   "execution_count": 6,
   "metadata": {},
   "outputs": [],
   "source": [
    "expected_return = np.array(data.mean()*252)\n",
    "covariance_martix = data.cov()*252"
   ]
  },
  {
   "cell_type": "code",
   "execution_count": 8,
   "metadata": {},
   "outputs": [],
   "source": [
    "def objective(weights):\n",
    "    return np.sqrt(np.dot(weights.T, np.dot(covariance_martix, weights)))\n",
    "\n",
    "def constraint1(weights):\n",
    "    return sum(weights)-1\n",
    "\n",
    "w0 = np.array([(1/asset_number) for i in range(asset_number)])\n",
    "bounds = [[0,1] for i in range(asset_number)]\n",
    "constraints = [{'type':'eq','fun':constraint1}]\n",
    "\n",
    "solution = minimize(objective,w0,method='SLSQP', bounds = bounds, constraints = constraints)\n",
    "return_gmv = (expected_return*solution.x).sum()"
   ]
  },
  {
   "cell_type": "code",
   "execution_count": 15,
   "metadata": {},
   "outputs": [],
   "source": [
    "risk_type = 'Risk preference'"
   ]
  },
  {
   "cell_type": "code",
   "execution_count": 16,
   "metadata": {},
   "outputs": [
    {
     "data": {
      "text/plain": [
       "array([0.201, 0.214, 0.   , 0.089, 0.046, 0.202, 0.   , 0.248, 0.   ,\n",
       "       0.   , 0.   ])"
      ]
     },
     "execution_count": 16,
     "metadata": {},
     "output_type": "execute_result"
    }
   ],
   "source": [
    "def investment_tendency(weight) :\n",
    "    return np.sqrt(np.dot(weight.T, np.dot(covariance_martix, weight)))\n",
    "\n",
    "basic_var = np.array([(1/asset_number) for i in range(asset_number)])\n",
    "bnds = [[0,1] for i in range(asset_number)]\n",
    "cons = [{'type':'eq','fun':constraint1}]\n",
    "\n",
    "ef_return = [return_gmv, return_gmv+0.08, return_gmv+0.16]\n",
    "investment_tendency_rank = ['Risk aversion', 'Risk neutrality', 'Risk preference']\n",
    "\n",
    "if risk_type == investment_tendency_rank[0] :\n",
    "    r = ef_return[0]\n",
    "    \n",
    "elif risk_type == investment_tendency_rank[1] :\n",
    "    r = ef_return[1]\n",
    "    \n",
    "elif risk_type == investment_tendency_rank[2] :\n",
    "    r = ef_return[2]\n",
    "\n",
    "con1 = {'type':'eq','fun': lambda x : np.sum(x) - 1}\n",
    "con2 = {'type':'eq','fun': lambda x : (expected_return*x).sum() - r}\n",
    "cons = [con1,con2]\n",
    "solution_min_std = minimize(investment_tendency, basic_var, method = 'SLSQP', bounds = bnds, constraints = cons)\n",
    "    \n",
    "return solution_min_std.x.round(3)"
   ]
  }
 ],
 "metadata": {
  "kernelspec": {
   "display_name": "Python 3",
   "language": "python",
   "name": "python3"
  },
  "language_info": {
   "codemirror_mode": {
    "name": "ipython",
    "version": 3
   },
   "file_extension": ".py",
   "mimetype": "text/x-python",
   "name": "python",
   "nbconvert_exporter": "python",
   "pygments_lexer": "ipython3",
   "version": "3.6.8"
  }
 },
 "nbformat": 4,
 "nbformat_minor": 2
}
