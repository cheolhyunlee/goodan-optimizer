{
 "cells": [
  {
   "cell_type": "code",
   "execution_count": 11,
   "metadata": {},
   "outputs": [],
   "source": [
    "import numpy as np\n",
    "import pandas as pd\n",
    "import FinanceDataReader as fdr\n",
    "import warnings\n",
    "warnings.filterwarnings('ignore')\n",
    "import matplotlib as mpl\n",
    "import matplotlib.pyplot as plt\n",
    "from matplotlib import font_manager, rc\n",
    "font_name = font_manager.FontProperties(fname = \"C:\\Windows\\Fonts\\malgun.ttf\").get_name()\n",
    "rc('font', family=font_name)\n",
    "import seaborn as sns\n",
    "from scipy.optimize import minimize\n",
    "mpl.rcParams['axes.unicode_minus'] = False\n",
    "%matplotlib inline"
   ]
  },
  {
   "cell_type": "code",
   "execution_count": 12,
   "metadata": {},
   "outputs": [],
   "source": [
    "asset_code = ['005930', '035720', '005490', '068270', '018260', '051900', '096770', '036570', '010130', '021240', '035250']\n",
    "asset_number = len(asset_code)"
   ]
  },
  {
   "cell_type": "code",
   "execution_count": 13,
   "metadata": {},
   "outputs": [],
   "source": [
    "stock_listing = fdr.StockListing('KOSPI')\n",
    "asset_list = []\n",
    "\n",
    "for code in asset_code :\n",
    "    asset_list.append(stock_listing[stock_listing['Symbol'] == code])\n",
    "\n",
    "asset_info = pd.concat(asset_list)"
   ]
  },
  {
   "cell_type": "code",
   "execution_count": 14,
   "metadata": {},
   "outputs": [],
   "source": [
    "asset_data = []\n",
    "\n",
    "for code in asset_code :\n",
    "    asset_close = fdr.DataReader(code,'2017')[['Close']]\n",
    "    asset_data.append(asset_close)\n",
    "\n",
    "asset_price = pd.concat(asset_data, axis = 1)\n",
    "asset_price.columns = asset_info['Name'].values"
   ]
  },
  {
   "cell_type": "code",
   "execution_count": 15,
   "metadata": {},
   "outputs": [],
   "source": [
    "data = asset_price.pct_change()"
   ]
  },
  {
   "cell_type": "code",
   "execution_count": 16,
   "metadata": {},
   "outputs": [],
   "source": [
    "ratio = 0.3"
   ]
  },
  {
   "cell_type": "code",
   "execution_count": 17,
   "metadata": {},
   "outputs": [],
   "source": [
    "risk_type = 'Risk preference'"
   ]
  },
  {
   "cell_type": "code",
   "execution_count": 25,
   "metadata": {},
   "outputs": [],
   "source": [
    "def goodan_optimizer(value, asset_number, data, ratio, risk_type) :\n",
    "    \n",
    "    expected_return = np.array(data.mean()*252)\n",
    "    covariance_martix = data.cov()*252\n",
    "\n",
    "    def objective(weights):\n",
    "        return np.sqrt(np.dot(weights.T, np.dot(covariance_martix, weights)))\n",
    "\n",
    "    def constraint1(weights):\n",
    "        return sum(weights)-1\n",
    "\n",
    "    def constraint2(weights):\n",
    "        return weights[-1] - ratio\n",
    "\n",
    "    w0 = np.array([(1/asset_number) for i in range(asset_number)])\n",
    "    bounds = [[0,1] for i in range(asset_number)]\n",
    "    constraints = [{'type':'eq','fun':constraint1}, {'type':'eq','fun':constraint2}]\n",
    "\n",
    "    solution = minimize(objective,w0,method='SLSQP', bounds = bounds, constraints = constraints)\n",
    "    return_gmv = (expected_return*solution.x).sum()\n",
    "    \n",
    "    def investment_tendency(weight) :\n",
    "        return np.sqrt(np.dot(weight.T, np.dot(covariance_martix, weight)))\n",
    "\n",
    "    basic_var = np.array([(1/asset_number) for i in range(asset_number)])\n",
    "    bnds = [[0,1] for i in range(asset_number)]\n",
    "    cons = [{'type':'eq','fun':constraint1}]\n",
    "\n",
    "    ef_return = [return_gmv, return_gmv+0.05, return_gmv+0.10]\n",
    "    investment_tendency_rank = ['Risk aversion', 'Risk neutrality', 'Risk preference']\n",
    "\n",
    "    if risk_type == investment_tendency_rank[0] :\n",
    "        r = ef_return[0]\n",
    "\n",
    "    elif risk_type == investment_tendency_rank[1] :\n",
    "        r = ef_return[1]\n",
    "\n",
    "    elif risk_type == investment_tendency_rank[2] :\n",
    "        r = ef_return[2]\n",
    "\n",
    "    con1 = {'type':'eq','fun': lambda x : np.sum(x) - 1}\n",
    "    con2 = {'type':'eq','fun': lambda x : (expected_return*x).sum() - r}\n",
    "    con3 = {'type':'eq','fun': lambda x : x[-1] - ratio}\n",
    "    cons = [con1,con2,con3]\n",
    "    solution_risk_type = minimize(investment_tendency, basic_var, method = 'SLSQP', bounds = bnds, constraints = cons)\n",
    "\n",
    "    return value * solution_risk_type.x.round(3), solution_risk_type.x.round(3)"
   ]
  },
  {
   "cell_type": "code",
   "execution_count": 26,
   "metadata": {},
   "outputs": [
    {
     "data": {
      "text/plain": [
       "(array([ 748000., 1606500.,       0.,  731000.,       0., 1079500.,\n",
       "              0., 1776500.,       0.,       0., 2550000.]),\n",
       " array([0.088, 0.189, 0.   , 0.086, 0.   , 0.127, 0.   , 0.209, 0.   ,\n",
       "        0.   , 0.3  ]))"
      ]
     },
     "execution_count": 26,
     "metadata": {},
     "output_type": "execute_result"
    }
   ],
   "source": [
    "goodan_optimizer(8500000, asset_number, data, ratio, risk_type)"
   ]
  }
 ],
 "metadata": {
  "kernelspec": {
   "display_name": "Python 3",
   "language": "python",
   "name": "python3"
  },
  "language_info": {
   "codemirror_mode": {
    "name": "ipython",
    "version": 3
   },
   "file_extension": ".py",
   "mimetype": "text/x-python",
   "name": "python",
   "nbconvert_exporter": "python",
   "pygments_lexer": "ipython3",
   "version": "3.6.8"
  }
 },
 "nbformat": 4,
 "nbformat_minor": 2
}
