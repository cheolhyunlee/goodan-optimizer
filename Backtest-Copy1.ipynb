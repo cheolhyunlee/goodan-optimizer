{
 "cells": [
  {
   "cell_type": "code",
   "execution_count": 1,
   "metadata": {},
   "outputs": [],
   "source": [
    "import FinanceDataReader as fdr\n",
    "import pandas as pd\n",
    "import numpy as np\n",
    "import matplotlib.pyplot as plt\n",
    "from scipy.stats import norm"
   ]
  },
  {
   "cell_type": "code",
   "execution_count": 2,
   "metadata": {},
   "outputs": [
    {
     "data": {
      "text/plain": [
       "'holding period return\\nCAGR\\nstandarad deviation\\nsharpe ratio\\ndraw-down\\nvalue at risk'"
      ]
     },
     "execution_count": 2,
     "metadata": {},
     "output_type": "execute_result"
    }
   ],
   "source": [
    "\"\"\"holding period return\n",
    "CAGR\n",
    "standarad deviation\n",
    "sharpe ratio\n",
    "draw-down\n",
    "value at risk\"\"\""
   ]
  },
  {
   "cell_type": "code",
   "execution_count": 3,
   "metadata": {},
   "outputs": [],
   "source": [
    "df = fdr.DataReader('KQ11', '2010')\n",
    "df = df['Close']"
   ]
  },
  {
   "cell_type": "code",
   "execution_count": 6,
   "metadata": {},
   "outputs": [],
   "source": [
    "ret = (np.log(df) - np.log(df.shift(1))).dropna()"
   ]
  },
  {
   "cell_type": "code",
   "execution_count": 16,
   "metadata": {
    "scrolled": true
   },
   "outputs": [
    {
     "name": "stdout",
     "output_type": "stream",
     "text": [
      "23.03 %\n"
     ]
    }
   ],
   "source": [
    "# holding period return\n",
    "\n",
    "Holding_period_return = round(df.pct_change().add(1).cumprod()[-1]-1,4)*100\n",
    "print(Holding_period_return, '%')"
   ]
  },
  {
   "cell_type": "code",
   "execution_count": 57,
   "metadata": {},
   "outputs": [
    {
     "name": "stdout",
     "output_type": "stream",
     "text": [
      "2.09 %\n"
     ]
    }
   ],
   "source": [
    "# CAGR\n",
    "\n",
    "CAGR = round((1 + (df.iloc[-1] - df.iloc[0])/df.iloc[0])**(1/(round(len(df) / 252, 0))) - 1, 4) * 100\n",
    "print(CAGR, '%')"
   ]
  },
  {
   "cell_type": "code",
   "execution_count": 27,
   "metadata": {},
   "outputs": [
    {
     "data": {
      "text/plain": [
       "0.021217352721185856"
      ]
     },
     "execution_count": 27,
     "metadata": {},
     "output_type": "execute_result"
    }
   ],
   "source": [
    "ret.mean()*252"
   ]
  },
  {
   "cell_type": "code",
   "execution_count": 24,
   "metadata": {},
   "outputs": [
    {
     "name": "stdout",
     "output_type": "stream",
     "text": [
      "19.46 %\n"
     ]
    }
   ],
   "source": [
    "# standarad deviation\n",
    "\n",
    "df_return = df.pct_change().dropna()\n",
    "Volatility = round((df_return.var()*252)**0.5, 4) * 100\n",
    "print(Volatility, '%')"
   ]
  },
  {
   "cell_type": "code",
   "execution_count": 22,
   "metadata": {
    "scrolled": true
   },
   "outputs": [
    {
     "name": "stdout",
     "output_type": "stream",
     "text": [
      "1.1064\n"
     ]
    }
   ],
   "source": [
    "# sharpe ratio\n",
    "\n",
    "Sharpe_ratio = round((Holding_period_return - 1.5) / Volatility, 4)\n",
    "print(Sharpe_ratio)"
   ]
  },
  {
   "cell_type": "code",
   "execution_count": 60,
   "metadata": {},
   "outputs": [],
   "source": [
    "def max_dd(returns):\n",
    "    \"\"\"Assumes returns is a pandas Series\"\"\"\n",
    "    r = returns.add(1).cumprod()\n",
    "    dd = r.div(r.cummax()).sub(1)\n",
    "    mdd = dd.min()\n",
    "    end = dd.argmin()\n",
    "    start = r.loc[:end].argmax()\n",
    "    return mdd, start, end"
   ]
  },
  {
   "cell_type": "code",
   "execution_count": 61,
   "metadata": {},
   "outputs": [
    {
     "name": "stdout",
     "output_type": "stream",
     "text": [
      "40.510000000000005 %\n"
     ]
    }
   ],
   "source": [
    "# maximum draw-down\n",
    "\n",
    "r = df.pct_change().add(1).cumprod()\n",
    "dd = r.div(r.cummax()).sub(1)\n",
    "\n",
    "Maximum_draw_down = round(dd.min()*-1,4)*100\n",
    "print(Maximum_draw_down, '%')"
   ]
  },
  {
   "cell_type": "code",
   "execution_count": 62,
   "metadata": {},
   "outputs": [
    {
     "data": {
      "text/plain": [
       "(-89438.0, -126791.0)"
      ]
     },
     "execution_count": 62,
     "metadata": {},
     "output_type": "execute_result"
    }
   ],
   "source": [
    "# value at risk\n",
    "\n",
    "mean = np.mean(df.pct_change())\n",
    "std_dev = np.std(df.pct_change())\n",
    "\n",
    "VaR_95 = norm.ppf(1-0.95, mean, std_dev)\n",
    "VaR_99 = norm.ppf(1-0.99, mean, std_dev)\n",
    "\n",
    "Value_at_Risk_95 = round(1000000 * VaR_95 * np.sqrt(20), 0)\n",
    "Value_at_Risk_99 = round(1000000 * VaR_99 * np.sqrt(20), 0)\n",
    "\n",
    "Value_at_Risk_95, Value_at_Risk_99"
   ]
  },
  {
   "cell_type": "code",
   "execution_count": null,
   "metadata": {},
   "outputs": [],
   "source": []
  }
 ],
 "metadata": {
  "kernelspec": {
   "display_name": "Python 3",
   "language": "python",
   "name": "python3"
  },
  "language_info": {
   "codemirror_mode": {
    "name": "ipython",
    "version": 3
   },
   "file_extension": ".py",
   "mimetype": "text/x-python",
   "name": "python",
   "nbconvert_exporter": "python",
   "pygments_lexer": "ipython3",
   "version": "3.6.8"
  }
 },
 "nbformat": 4,
 "nbformat_minor": 2
}
