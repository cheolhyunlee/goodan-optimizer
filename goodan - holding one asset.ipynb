{
 "cells": [
  {
   "cell_type": "code",
   "execution_count": 1,
   "metadata": {},
   "outputs": [],
   "source": [
    "import numpy as np\n",
    "import pandas as pd\n",
    "import FinanceDataReader as fdr\n",
    "import warnings\n",
    "warnings.filterwarnings('ignore')\n",
    "import matplotlib as mpl\n",
    "import matplotlib.pyplot as plt\n",
    "from scipy.optimize import minimize\n",
    "mpl.rcParams['axes.unicode_minus'] = False\n",
    "%matplotlib inline"
   ]
  },
  {
   "cell_type": "code",
   "execution_count": 2,
   "metadata": {},
   "outputs": [],
   "source": [
    "df_etf = pd.read_csv('data_etf.csv')\n",
    "df_etf = df_etf.set_index('Date')\n",
    "df_etf.index = pd.to_datetime(df_etf.index)\n",
    "df_etf[df_etf.columns] = df_etf[df_etf.columns].astype(float)\n",
    "df_etf = df_etf.sort_values(by = 'Date')\n",
    "\n",
    "df_goodan = pd.read_csv('data_goodan.csv')\n",
    "df_goodan = df_goodan.set_index('Date')\n",
    "df_goodan.index = pd.to_datetime(df_goodan.index)\n",
    "df_goodan[df_goodan.columns] = df_goodan[df_goodan.columns].astype(float)\n",
    "df_goodan = df_goodan.sort_values(by = 'Date')"
   ]
  },
  {
   "cell_type": "code",
   "execution_count": 3,
   "metadata": {
    "scrolled": true
   },
   "outputs": [],
   "source": [
    "df_goodan[df_goodan.columns] = df_goodan[df_goodan.columns].astype(float)\n",
    "df_etf[df_etf.columns] = df_etf[df_etf.columns].astype(float)"
   ]
  },
  {
   "cell_type": "code",
   "execution_count": 4,
   "metadata": {},
   "outputs": [],
   "source": [
    "goodan = 'Ajax'"
   ]
  },
  {
   "cell_type": "code",
   "execution_count": 5,
   "metadata": {},
   "outputs": [],
   "source": [
    "def goodan_selection(goodan) :\n",
    "    \n",
    "    df_data = df_etf.copy()\n",
    "    df_data[goodan] = df_goodan[goodan]\n",
    "    df_result = df_data.sort_values('Date')\n",
    "    \n",
    "    return df_result"
   ]
  },
  {
   "cell_type": "code",
   "execution_count": 6,
   "metadata": {
    "scrolled": true
   },
   "outputs": [],
   "source": [
    "data = goodan_selection(goodan)"
   ]
  },
  {
   "cell_type": "code",
   "execution_count": 7,
   "metadata": {},
   "outputs": [],
   "source": [
    "asset_num = len(data.columns)"
   ]
  },
  {
   "cell_type": "code",
   "execution_count": 8,
   "metadata": {},
   "outputs": [],
   "source": [
    "value = 1"
   ]
  },
  {
   "cell_type": "code",
   "execution_count": 15,
   "metadata": {},
   "outputs": [],
   "source": [
    "ratio = 0.1"
   ]
  },
  {
   "cell_type": "code",
   "execution_count": 10,
   "metadata": {},
   "outputs": [],
   "source": [
    "def daily_to_month(start, end, df_daily):\n",
    "    \n",
    "    s = pd.date_range(start, end, freq = 'MS')\n",
    "    e = pd.date_range(start, end, freq = 'M')\n",
    "\n",
    "    v = []\n",
    "\n",
    "    for i, j in zip(s, e) :\n",
    "        \n",
    "        date = pd.date_range(i, j)\n",
    "        \n",
    "        df_date_range_value = df_daily.loc[date].dropna()\n",
    "        \n",
    "        value_result = df_date_range_value.iloc[[0]]\n",
    "        \n",
    "        v.append(value_result)\n",
    "\n",
    "    df_month = pd.concat(v)\n",
    "    \n",
    "    return df_month"
   ]
  },
  {
   "cell_type": "code",
   "execution_count": 11,
   "metadata": {},
   "outputs": [],
   "source": [
    "def price_to_return_rate(data) :\n",
    "    \n",
    "    df_2 = data\n",
    "    \n",
    "    df_pro = (df_2 - df_2.shift(1)).iloc[1:,:]\n",
    "    df_pro2 = df_2.shift(1).iloc[1:,:]\n",
    "    \n",
    "    df_return = df_pro / df_pro2\n",
    "    \n",
    "    data = df_return.iloc[:,:]\n",
    "    \n",
    "    return data"
   ]
  },
  {
   "cell_type": "code",
   "execution_count": 12,
   "metadata": {},
   "outputs": [
    {
     "data": {
      "text/html": [
       "<div>\n",
       "<style scoped>\n",
       "    .dataframe tbody tr th:only-of-type {\n",
       "        vertical-align: middle;\n",
       "    }\n",
       "\n",
       "    .dataframe tbody tr th {\n",
       "        vertical-align: top;\n",
       "    }\n",
       "\n",
       "    .dataframe thead th {\n",
       "        text-align: right;\n",
       "    }\n",
       "</style>\n",
       "<table border=\"1\" class=\"dataframe\">\n",
       "  <thead>\n",
       "    <tr style=\"text-align: right;\">\n",
       "      <th></th>\n",
       "      <th>KOSEF 단기자금(A130730)</th>\n",
       "      <th>KODEX 인버스(A114800)</th>\n",
       "      <th>KODEX 은선물(H)(A144600)</th>\n",
       "      <th>KODEX 삼성그룹(A102780)</th>\n",
       "      <th>KODEX 레버리지(A122630)</th>\n",
       "      <th>KODEX 골드선물(H)(A132030)</th>\n",
       "      <th>KODEX 건설(A117700)</th>\n",
       "      <th>KODEX 200(A069500)</th>\n",
       "      <th>KINDEX 레버리지(A152500)</th>\n",
       "      <th>KINDEX 200(A105190)</th>\n",
       "      <th>Ajax</th>\n",
       "    </tr>\n",
       "  </thead>\n",
       "  <tbody>\n",
       "    <tr>\n",
       "      <th>2014-02-03</th>\n",
       "      <td>0.001894</td>\n",
       "      <td>0.031291</td>\n",
       "      <td>-0.042198</td>\n",
       "      <td>-0.037829</td>\n",
       "      <td>-0.060696</td>\n",
       "      <td>0.016437</td>\n",
       "      <td>-0.004274</td>\n",
       "      <td>-0.027403</td>\n",
       "      <td>-0.062430</td>\n",
       "      <td>-0.026913</td>\n",
       "      <td>-0.007025</td>\n",
       "    </tr>\n",
       "    <tr>\n",
       "      <th>2014-03-03</th>\n",
       "      <td>0.002288</td>\n",
       "      <td>-0.020228</td>\n",
       "      <td>0.114754</td>\n",
       "      <td>0.010256</td>\n",
       "      <td>0.041121</td>\n",
       "      <td>0.085550</td>\n",
       "      <td>0.065808</td>\n",
       "      <td>0.022817</td>\n",
       "      <td>0.041617</td>\n",
       "      <td>0.021928</td>\n",
       "      <td>0.089777</td>\n",
       "    </tr>\n",
       "    <tr>\n",
       "      <th>2014-04-01</th>\n",
       "      <td>0.001985</td>\n",
       "      <td>-0.009032</td>\n",
       "      <td>-0.076287</td>\n",
       "      <td>0.012690</td>\n",
       "      <td>0.016059</td>\n",
       "      <td>-0.043248</td>\n",
       "      <td>-0.017450</td>\n",
       "      <td>0.009117</td>\n",
       "      <td>0.015982</td>\n",
       "      <td>0.008892</td>\n",
       "      <td>0.010880</td>\n",
       "    </tr>\n",
       "    <tr>\n",
       "      <th>2014-05-02</th>\n",
       "      <td>0.002328</td>\n",
       "      <td>0.017578</td>\n",
       "      <td>-0.038806</td>\n",
       "      <td>-0.020050</td>\n",
       "      <td>-0.029902</td>\n",
       "      <td>-0.000502</td>\n",
       "      <td>0.015027</td>\n",
       "      <td>-0.022684</td>\n",
       "      <td>-0.031461</td>\n",
       "      <td>-0.025867</td>\n",
       "      <td>0.021527</td>\n",
       "    </tr>\n",
       "    <tr>\n",
       "      <th>2014-06-02</th>\n",
       "      <td>0.001878</td>\n",
       "      <td>-0.023672</td>\n",
       "      <td>-0.015528</td>\n",
       "      <td>0.045183</td>\n",
       "      <td>0.046235</td>\n",
       "      <td>-0.031156</td>\n",
       "      <td>-0.030956</td>\n",
       "      <td>0.025177</td>\n",
       "      <td>0.047564</td>\n",
       "      <td>0.025964</td>\n",
       "      <td>-0.021073</td>\n",
       "    </tr>\n",
       "  </tbody>\n",
       "</table>\n",
       "</div>"
      ],
      "text/plain": [
       "            KOSEF 단기자금(A130730)  KODEX 인버스(A114800)  KODEX 은선물(H)(A144600)  \\\n",
       "2014-02-03             0.001894            0.031291              -0.042198   \n",
       "2014-03-03             0.002288           -0.020228               0.114754   \n",
       "2014-04-01             0.001985           -0.009032              -0.076287   \n",
       "2014-05-02             0.002328            0.017578              -0.038806   \n",
       "2014-06-02             0.001878           -0.023672              -0.015528   \n",
       "\n",
       "            KODEX 삼성그룹(A102780)  KODEX 레버리지(A122630)  KODEX 골드선물(H)(A132030)  \\\n",
       "2014-02-03            -0.037829            -0.060696                0.016437   \n",
       "2014-03-03             0.010256             0.041121                0.085550   \n",
       "2014-04-01             0.012690             0.016059               -0.043248   \n",
       "2014-05-02            -0.020050            -0.029902               -0.000502   \n",
       "2014-06-02             0.045183             0.046235               -0.031156   \n",
       "\n",
       "            KODEX 건설(A117700)  KODEX 200(A069500)  KINDEX 레버리지(A152500)  \\\n",
       "2014-02-03          -0.004274           -0.027403             -0.062430   \n",
       "2014-03-03           0.065808            0.022817              0.041617   \n",
       "2014-04-01          -0.017450            0.009117              0.015982   \n",
       "2014-05-02           0.015027           -0.022684             -0.031461   \n",
       "2014-06-02          -0.030956            0.025177              0.047564   \n",
       "\n",
       "            KINDEX 200(A105190)      Ajax  \n",
       "2014-02-03            -0.026913 -0.007025  \n",
       "2014-03-03             0.021928  0.089777  \n",
       "2014-04-01             0.008892  0.010880  \n",
       "2014-05-02            -0.025867  0.021527  \n",
       "2014-06-02             0.025964 -0.021073  "
      ]
     },
     "execution_count": 12,
     "metadata": {},
     "output_type": "execute_result"
    }
   ],
   "source": [
    "df_month = daily_to_month('2014-01-01', '2019-01-01', data)\n",
    "data = price_to_return_rate(df_month)\n",
    "data.head()"
   ]
  },
  {
   "cell_type": "code",
   "execution_count": 52,
   "metadata": {},
   "outputs": [],
   "source": [
    "def goodan_optimizer(value, asset_num, data, ratio) :\n",
    "\n",
    "    data_etf = data\n",
    "    r_cov = data_etf.cov()\n",
    "    \n",
    "    def objective(weights):\n",
    "        return 0.5*np.sqrt(np.dot(weights.T, np.dot(r_cov, weights)))\n",
    "    \n",
    "    def constraint1(weights):\n",
    "        return sum(weights)-1\n",
    "    \n",
    "    def constraint2(weights):\n",
    "        return weights[-1] - ratio\n",
    "    \n",
    "    w0 = [(1 / asset_num) for i in range(asset_num)]\n",
    "    w0 = np.array(w0)\n",
    "    \n",
    "    bound = [0,1]\n",
    "    bnds = [bound for i in range(asset_num)]\n",
    "    con1 = {'type':'eq','fun':constraint1}\n",
    "    con2 = {'type':'eq','fun':constraint2}\n",
    "    cons = [con1, con2]\n",
    "    \n",
    "    sol = minimize(objective,w0,method='SLSQP',bounds = bnds, constraints = cons)\n",
    "    \n",
    "    return value * sol.x.round(3)"
   ]
  }
 ],
 "metadata": {
  "kernelspec": {
   "display_name": "Python 3",
   "language": "python",
   "name": "python3"
  },
  "language_info": {
   "codemirror_mode": {
    "name": "ipython",
    "version": 3
   },
   "file_extension": ".py",
   "mimetype": "text/x-python",
   "name": "python",
   "nbconvert_exporter": "python",
   "pygments_lexer": "ipython3",
   "version": "3.6.8"
  }
 },
 "nbformat": 4,
 "nbformat_minor": 2
}
